{
 "cells": [
  {
   "cell_type": "code",
   "execution_count": 30,
   "id": "089ac9de",
   "metadata": {},
   "outputs": [],
   "source": [
    "import numpy as np"
   ]
  },
  {
   "cell_type": "markdown",
   "id": "55991bc6",
   "metadata": {},
   "source": [
    "# 1.Create a null vector of size 10 but the fifth value which is 1."
   ]
  },
  {
   "cell_type": "code",
   "execution_count": 31,
   "id": "6fd8af4c",
   "metadata": {},
   "outputs": [
    {
     "data": {
      "text/plain": [
       "array([0., 0., 0., 0., 1., 0., 0., 0., 0., 0.])"
      ]
     },
     "execution_count": 31,
     "metadata": {},
     "output_type": "execute_result"
    }
   ],
   "source": [
    "x=np.zeros(10)\n",
    "x[4]=1\n",
    "x"
   ]
  },
  {
   "cell_type": "markdown",
   "id": "e703d53f",
   "metadata": {},
   "source": [
    "# 2.Create a vector with values ranging from 10 to 49."
   ]
  },
  {
   "cell_type": "code",
   "execution_count": 32,
   "id": "d0325a9c",
   "metadata": {},
   "outputs": [
    {
     "data": {
      "text/plain": [
       "array([10, 11, 12, 13, 14, 15, 16, 17, 18, 19, 20, 21, 22, 23, 24, 25, 26,\n",
       "       27, 28, 29, 30, 31, 32, 33, 34, 35, 36, 37, 38, 39, 40, 41, 42, 43,\n",
       "       44, 45, 46, 47, 48, 49])"
      ]
     },
     "execution_count": 32,
     "metadata": {},
     "output_type": "execute_result"
    }
   ],
   "source": [
    "vet=np.arange(10,50)\n",
    "vet"
   ]
  },
  {
   "cell_type": "markdown",
   "id": "2cf67549",
   "metadata": {},
   "source": [
    "# 3.Create a 3x3 matrix with values ranging from 0 to 8"
   ]
  },
  {
   "cell_type": "code",
   "execution_count": 33,
   "id": "66463607",
   "metadata": {},
   "outputs": [
    {
     "data": {
      "text/plain": [
       "array([[0, 1, 2],\n",
       "       [3, 4, 5],\n",
       "       [6, 7, 8]])"
      ]
     },
     "execution_count": 33,
     "metadata": {},
     "output_type": "execute_result"
    }
   ],
   "source": [
    "mat=np.arange(0,9).reshape(3,3)\n",
    "mat"
   ]
  },
  {
   "cell_type": "markdown",
   "id": "65de44b8",
   "metadata": {},
   "source": [
    "# 4.Find indices of non-zero elements from [1,2,0,0,4,0]"
   ]
  },
  {
   "cell_type": "code",
   "execution_count": 34,
   "id": "8064c293",
   "metadata": {},
   "outputs": [
    {
     "data": {
      "text/plain": [
       "(array([0, 1, 4], dtype=int64),)"
      ]
     },
     "execution_count": 34,
     "metadata": {},
     "output_type": "execute_result"
    }
   ],
   "source": [
    "nonzeroele=np.nonzero([1,2,0,0,4,0])\n",
    "nonzeroele"
   ]
  },
  {
   "cell_type": "markdown",
   "id": "954dfb14",
   "metadata": {},
   "source": [
    "# 5.Create a 10x10 array with random values and find the minimum and maximum values."
   ]
  },
  {
   "cell_type": "code",
   "execution_count": 35,
   "id": "b53add92",
   "metadata": {},
   "outputs": [
    {
     "data": {
      "text/plain": [
       "array([[0.31052301, 0.44793919, 0.85532661, 0.24792043, 0.66284129,\n",
       "        0.44808445, 0.61861447, 0.95133136, 0.93304526, 0.99703565],\n",
       "       [0.6326298 , 0.6958972 , 0.77242951, 0.10387965, 0.19531046,\n",
       "        0.31083268, 0.53561568, 0.83639721, 0.17628462, 0.34576359],\n",
       "       [0.98675294, 0.33261827, 0.10234122, 0.09413401, 0.43632054,\n",
       "        0.87958779, 0.40563358, 0.82527164, 0.87332226, 0.86253694],\n",
       "       [0.74310523, 0.59740808, 0.11684558, 0.80416594, 0.27745837,\n",
       "        0.84249868, 0.09047582, 0.40525082, 0.97167745, 0.26463663],\n",
       "       [0.97925733, 0.66668301, 0.37407432, 0.77353315, 0.71123041,\n",
       "        0.01829518, 0.90961481, 0.63238955, 0.10821831, 0.81408005],\n",
       "       [0.1546963 , 0.31211209, 0.03989123, 0.44673493, 0.29013522,\n",
       "        0.08325148, 0.18358547, 0.74642375, 0.98532771, 0.96047061],\n",
       "       [0.09338061, 0.88083311, 0.41209573, 0.49044383, 0.29552091,\n",
       "        0.71667155, 0.18579535, 0.81646595, 0.14848785, 0.30115686],\n",
       "       [0.99513461, 0.75929345, 0.26885719, 0.37372039, 0.79173516,\n",
       "        0.54514176, 0.69727645, 0.18004565, 0.93106559, 0.4956441 ],\n",
       "       [0.34127071, 0.06696689, 0.43025671, 0.35852695, 0.71485363,\n",
       "        0.14136258, 0.89423485, 0.60787773, 0.62203129, 0.80230954],\n",
       "       [0.35023008, 0.51265168, 0.90295042, 0.96758523, 0.67297371,\n",
       "        0.34666345, 0.89706439, 0.07669202, 0.861091  , 0.86667562]])"
      ]
     },
     "execution_count": 35,
     "metadata": {},
     "output_type": "execute_result"
    }
   ],
   "source": [
    "mata=np.random.random((10,10))\n",
    "mata"
   ]
  },
  {
   "cell_type": "code",
   "execution_count": 36,
   "id": "73a71668",
   "metadata": {},
   "outputs": [],
   "source": [
    "mata_min=mata.min()\n",
    "mata_max=mata.max()"
   ]
  },
  {
   "cell_type": "code",
   "execution_count": 37,
   "id": "b5f02912",
   "metadata": {},
   "outputs": [
    {
     "name": "stdout",
     "output_type": "stream",
     "text": [
      "0.01829517812463244 0.9970356549448889\n"
     ]
    }
   ],
   "source": [
    "print(mata_min,mata_max)"
   ]
  },
  {
   "cell_type": "markdown",
   "id": "3813f7c0",
   "metadata": {},
   "source": [
    "# 6.Create a 10x10 array with random values and find the minimum and maximum values"
   ]
  },
  {
   "cell_type": "code",
   "execution_count": 38,
   "id": "5a5c1fb3",
   "metadata": {},
   "outputs": [
    {
     "data": {
      "text/plain": [
       "0.44867586005147164"
      ]
     },
     "execution_count": 38,
     "metadata": {},
     "output_type": "execute_result"
    }
   ],
   "source": [
    "mat=np.random.random(30)\n",
    "mean=mat.mean()\n",
    "mean"
   ]
  }
 ],
 "metadata": {
  "kernelspec": {
   "display_name": "Python 3 (ipykernel)",
   "language": "python",
   "name": "python3"
  },
  "language_info": {
   "codemirror_mode": {
    "name": "ipython",
    "version": 3
   },
   "file_extension": ".py",
   "mimetype": "text/x-python",
   "name": "python",
   "nbconvert_exporter": "python",
   "pygments_lexer": "ipython3",
   "version": "3.9.12"
  }
 },
 "nbformat": 4,
 "nbformat_minor": 5
}
